{
 "cells": [
  {
   "cell_type": "code",
   "execution_count": 3,
   "metadata": {},
   "outputs": [],
   "source": [
    "import cv2\n",
    "import numpy as np\n",
    "import _pickle as cPickle\n",
    "from sklearn.cluster import MiniBatchKMeans\n",
    "from sklearn.neighbors import KNeighborsClassifier\n",
    "from sklearn.decomposition import PCA\n",
    "from sklearn.discriminant_analysis import LinearDiscriminantAnalysis\n"
   ]
  },
  {
   "cell_type": "markdown",
   "metadata": {},
   "source": [
    "Let us first read the train and test files"
   ]
  },
  {
   "cell_type": "code",
   "execution_count": 4,
   "metadata": {},
   "outputs": [],
   "source": [
    "train_images_filenames = cPickle.load(open('train_images_filenames.dat','rb'))\n",
    "test_images_filenames = cPickle.load(open('test_images_filenames.dat','rb'))\n",
    "train_labels = cPickle.load(open('train_labels.dat','rb'))\n",
    "test_labels = cPickle.load(open('test_labels.dat','rb'))\n"
   ]
  },
  {
   "cell_type": "code",
   "execution_count": 5,
   "metadata": {},
   "outputs": [
    {
     "data": {
      "text/plain": "'../../Databases/MIT_split/train/Opencountry/fie26.jpg'"
     },
     "execution_count": 5,
     "metadata": {},
     "output_type": "execute_result"
    }
   ],
   "source": [
    "train_images_filenames[12]"
   ]
  },
  {
   "cell_type": "markdown",
   "metadata": {
    "pycharm": {
     "name": "#%% md\n"
    }
   },
   "source": [
    "We create a SIFT object detector and descriptor"
   ]
  },
  {
   "cell_type": "code",
   "execution_count": 6,
   "metadata": {
    "jupyter": {
     "outputs_hidden": false
    },
    "pycharm": {
     "name": "#%%\n"
    }
   },
   "outputs": [],
   "source": [
    "SIFTdetector = cv2.xfeatures2d.SIFT_create(nfeatures=300)"
   ]
  },
  {
   "cell_type": "markdown",
   "metadata": {},
   "source": [
    "We compute the SIFT descriptors for all the train images and subsequently build a numpy array with all the descriptors stacked together"
   ]
  },
  {
   "cell_type": "code",
   "execution_count": 7,
   "metadata": {},
   "outputs": [],
   "source": [
    "\n",
    "Train_descriptors = []\n",
    "Train_label_per_descriptor = []\n",
    "\n",
    "for filename,labels in zip(train_images_filenames,train_labels):\n",
    "    ima=cv2.imread(filename)\n",
    "    gray=cv2.cvtColor(ima,cv2.COLOR_BGR2GRAY)\n",
    "    kpt,des=SIFTdetector.detectAndCompute(gray,None)\n",
    "    Train_descriptors.append(des)\n",
    "    Train_label_per_descriptor.append(labels)\n",
    "\n",
    "D=np.vstack(Train_descriptors)\n"
   ]
  },
  {
   "cell_type": "markdown",
   "metadata": {},
   "source": [
    "We now compute a k-means clustering on the descriptor space"
   ]
  },
  {
   "cell_type": "code",
   "execution_count": 8,
   "metadata": {},
   "outputs": [
    {
     "data": {
      "text/plain": "MiniBatchKMeans(batch_size=2560, compute_labels=False, n_clusters=128,\n                random_state=42, reassignment_ratio=0.0001, verbose=False)"
     },
     "execution_count": 8,
     "metadata": {},
     "output_type": "execute_result"
    }
   ],
   "source": [
    "k = 128\n",
    "codebook = MiniBatchKMeans(n_clusters=k, verbose=False, batch_size=k * 20,compute_labels=False,reassignment_ratio=10**-4,random_state=42)\n",
    "codebook.fit(D)"
   ]
  },
  {
   "cell_type": "markdown",
   "metadata": {},
   "source": [
    "And, for each train image, we project each keypoint descriptor to its closest visual word. We represent each of the images with the frequency of each visual word."
   ]
  },
  {
   "cell_type": "code",
   "execution_count": 9,
   "metadata": {},
   "outputs": [],
   "source": [
    "visual_words=np.zeros((len(Train_descriptors),k),dtype=np.float32)\n",
    "for i in range(len(Train_descriptors)):\n",
    "    words=codebook.predict(Train_descriptors[i])\n",
    "    visual_words[i,:]=np.bincount(words,minlength=k)"
   ]
  },
  {
   "cell_type": "markdown",
   "metadata": {},
   "source": [
    "We build a k-nn classifier and train it with the train descriptors"
   ]
  },
  {
   "cell_type": "code",
   "execution_count": 10,
   "metadata": {},
   "outputs": [
    {
     "data": {
      "text/plain": "KNeighborsClassifier(metric='euclidean', n_jobs=-1)"
     },
     "execution_count": 10,
     "metadata": {},
     "output_type": "execute_result"
    }
   ],
   "source": [
    "knn = KNeighborsClassifier(n_neighbors=5,n_jobs=-1,metric='euclidean')\n",
    "knn.fit(visual_words, train_labels) "
   ]
  },
  {
   "cell_type": "markdown",
   "metadata": {},
   "source": [
    "We end up computing the test descriptors and compute the accuracy of the model"
   ]
  },
  {
   "cell_type": "code",
   "execution_count": 11,
   "metadata": {},
   "outputs": [],
   "source": [
    "visual_words_test=np.zeros((len(test_images_filenames),k),dtype=np.float32)\n",
    "for i in range(len(test_images_filenames)):\n",
    "    filename=test_images_filenames[i]\n",
    "    ima=cv2.imread(filename)\n",
    "    gray=cv2.cvtColor(ima,cv2.COLOR_BGR2GRAY)\n",
    "    kpt,des=SIFTdetector.detectAndCompute(gray,None)\n",
    "    words=codebook.predict(des)\n",
    "    visual_words_test[i,:]=np.bincount(words,minlength=k)"
   ]
  },
  {
   "cell_type": "code",
   "execution_count": 12,
   "metadata": {},
   "outputs": [
    {
     "name": "stdout",
     "output_type": "stream",
     "text": [
      "53.53159851301115\n"
     ]
    }
   ],
   "source": [
    "accuracy = 100*knn.score(visual_words_test, test_labels)\n",
    "print(accuracy)"
   ]
  },
  {
   "cell_type": "markdown",
   "metadata": {},
   "source": [
    "Dimensionality reduction, with PCA and LDA"
   ]
  },
  {
   "cell_type": "code",
   "execution_count": 13,
   "metadata": {},
   "outputs": [
    {
     "name": "stdout",
     "output_type": "stream",
     "text": [
      "53.77942998760843\n"
     ]
    }
   ],
   "source": [
    "pca = PCA(n_components=64)\n",
    "VWpca = pca.fit_transform(visual_words)\n",
    "knnpca = KNeighborsClassifier(n_neighbors=5,n_jobs=-1,metric='euclidean')\n",
    "knnpca.fit(VWpca, train_labels) \n",
    "vwtestpca = pca.transform(visual_words_test)\n",
    "accuracy = 100*knnpca.score(vwtestpca, test_labels)\n",
    "print(accuracy)"
   ]
  },
  {
   "cell_type": "code",
   "execution_count": 14,
   "metadata": {},
   "outputs": [
    {
     "name": "stdout",
     "output_type": "stream",
     "text": [
      "59.727385377943\n"
     ]
    }
   ],
   "source": [
    "lda = LinearDiscriminantAnalysis()\n",
    "VWlda = lda.fit_transform(visual_words,train_labels)\n",
    "knnlda = KNeighborsClassifier(n_neighbors=5,n_jobs=-1,metric='euclidean')\n",
    "knnlda.fit(VWlda, train_labels) \n",
    "vwtestlda = lda.transform(visual_words_test)\n",
    "accuracy = 100*knnlda.score(vwtestlda, test_labels)\n",
    "print(accuracy)"
   ]
  },
  {
   "cell_type": "markdown",
   "metadata": {},
   "source": [
    "Now we repeat the previous steps, but in this case we compute the accuracy by varying the codebook sizes."
   ]
  },
  {
   "cell_type": "code",
   "execution_count": 13,
   "metadata": {
    "scrolled": false
   },
   "outputs": [
    {
     "data": {
      "image/png": "[encoded data removed]",
      "text/plain": [
       "<Figure size 432x288 with 1 Axes>"
      ]
     },
     "metadata": {
      "needs_background": "light"
     },
     "output_type": "display_data"
    },
    {
     "data": {
      "image/png": "[encoded data removed]",
      "text/plain": [
       "<Figure size 432x288 with 1 Axes>"
      ]
     },
     "metadata": {
      "needs_background": "light"
     },
     "output_type": "display_data"
    },
    {
     "data": {
      "image/png": "[encoded data removed]",
      "text/plain": [
       "<Figure size 432x288 with 1 Axes>"
      ]
     },
     "metadata": {
      "needs_background": "light"
     },
     "output_type": "display_data"
    }
   ],
   "source": [
    "clusters = [64,128,256,512]\n",
    "knn_acc = []\n",
    "kpca_acc = []\n",
    "klda_acc = []\n",
    "for k in clusters:\n",
    "    codebook = MiniBatchKMeans(n_clusters=k, verbose=False, batch_size=k * 20,compute_labels=False,reassignment_ratio=10**-4,random_state=42)\n",
    "    codebook.fit(D)\n",
    "    visual_words=np.zeros((len(Train_descriptors),k),dtype=np.float32)\n",
    "    for i in range(len(Train_descriptors)):\n",
    "        words=codebook.predict(Train_descriptors[i])\n",
    "        visual_words[i,:]=np.bincount(words,minlength=k)\n",
    "\n",
    "    knn = KNeighborsClassifier(n_neighbors=5,n_jobs=-1,metric='euclidean')\n",
    "    knn.fit(visual_words, train_labels)\n",
    "\n",
    "    visual_words_test=np.zeros((len(test_images_filenames),k),dtype=np.float32)\n",
    "    for i in range(len(test_images_filenames)):\n",
    "        filename=test_images_filenames[i]\n",
    "        ima=cv2.imread(filename)\n",
    "        gray=cv2.cvtColor(ima,cv2.COLOR_BGR2GRAY)\n",
    "        kpt,des=SIFTdetector.detectAndCompute(gray,None)\n",
    "        words=codebook.predict(des)\n",
    "        visual_words_test[i,:]=np.bincount(words,minlength=k)\n",
    "\n",
    "    accuracy = 100*knn.score(visual_words_test, test_labels)\n",
    "    knn_acc.append(accuracy)\n",
    "\n",
    "    pca = PCA(n_components=64)\n",
    "    VWpca = pca.fit_transform(visual_words)\n",
    "    knnpca = KNeighborsClassifier(n_neighbors=5,n_jobs=-1,metric='euclidean')\n",
    "    knnpca.fit(VWpca, train_labels) \n",
    "    vwtestpca = pca.transform(visual_words_test)\n",
    "    accuracy = 100*knnpca.score(vwtestpca, test_labels)\n",
    "    kpca_acc.append(accuracy)\n",
    "\n",
    "    lda = LinearDiscriminantAnalysis()\n",
    "    VWlda = lda.fit_transform(visual_words,train_labels)\n",
    "    knnlda = KNeighborsClassifier(n_neighbors=5,n_jobs=-1,metric='euclidean')\n",
    "    knnlda.fit(VWlda, train_labels) \n",
    "    vwtestlda = lda.transform(visual_words_test)\n",
    "    accuracy = 100*knnlda.score(vwtestlda, test_labels)\n",
    "    klda_acc.append(accuracy)\n",
    "    \n",
    "import matplotlib.pyplot as plt\n",
    "\n",
    "plt.plot(clusters,knn_acc)\n",
    "plt.ylabel('Accuracy: KNN')\n",
    "plt.xlabel('Codebook Size')\n",
    "plt.show()\n",
    "\n",
    "plt.plot(clusters,kpca_acc)\n",
    "plt.ylabel('Accuracy: PCA')\n",
    "plt.xlabel('Codebook Size')\n",
    "plt.show()\n",
    "\n",
    "plt.plot(clusters,klda_acc)\n",
    "plt.ylabel('Accuracy: LDA')\n",
    "plt.xlabel('Codebook Size')\n",
    "plt.show()\n",
    "\n"
   ]
  },
  {
   "cell_type": "markdown",
   "metadata": {},
   "source": [
    "We can see that the accurracy is optimal at Codebook size 256."
   ]
  },
  {
   "cell_type": "markdown",
   "metadata": {},
   "source": [
    "Now we repeat the previous steps, but in this case we compute the accuracy by varying the k in knn classifier size."
   ]
  },
  {
   "cell_type": "code",
   "execution_count": 14,
   "metadata": {
    "scrolled": false
   },
   "outputs": [
    {
     "data": {
      "image/png": "[encoded data removed]",
      "text/plain": [
       "<Figure size 432x288 with 1 Axes>"
      ]
     },
     "metadata": {
      "needs_background": "light"
     },
     "output_type": "display_data"
    },
    {
     "data": {
      "image/png": "[encoded data removed]",
      "text/plain": [
       "<Figure size 432x288 with 1 Axes>"
      ]
     },
     "metadata": {
      "needs_background": "light"
     },
     "output_type": "display_data"
    },
    {
     "data": {
      "image/png": "[encoded data removed]",
      "text/plain": [
       "<Figure size 432x288 with 1 Axes>"
      ]
     },
     "metadata": {
      "needs_background": "light"
     },
     "output_type": "display_data"
    }
   ],
   "source": [
    "k = 256\n",
    "codebook = MiniBatchKMeans(n_clusters=k, verbose=False, batch_size=k * 20,compute_labels=False,reassignment_ratio=10**-4,random_state=42)\n",
    "codebook.fit(D)\n",
    "visual_words=np.zeros((len(Train_descriptors),k),dtype=np.float32)\n",
    "for i in range(len(Train_descriptors)):\n",
    "    words=codebook.predict(Train_descriptors[i])\n",
    "    visual_words[i,:]=np.bincount(words,minlength=k)\n",
    "    \n",
    "visual_words_test=np.zeros((len(test_images_filenames),k),dtype=np.float32)\n",
    "for i in range(len(test_images_filenames)):\n",
    "    filename=test_images_filenames[i]\n",
    "    ima=cv2.imread(filename)\n",
    "    gray=cv2.cvtColor(ima,cv2.COLOR_BGR2GRAY)\n",
    "    kpt,des=SIFTdetector.detectAndCompute(gray,None)\n",
    "    words=codebook.predict(des)\n",
    "    visual_words_test[i,:]=np.bincount(words,minlength=k)\n",
    "\n",
    "neighbours = range(5,100, 5)\n",
    "knn_acc = []\n",
    "kpca_acc = []\n",
    "klda_acc = []\n",
    "for n in neighbours:\n",
    "    knn = KNeighborsClassifier(n_neighbors=n,n_jobs=-1,metric='euclidean')\n",
    "    knn.fit(visual_words, train_labels)\n",
    "\n",
    "    accuracy = 100*knn.score(visual_words_test, test_labels)\n",
    "    knn_acc.append(accuracy)\n",
    "\n",
    "    pca = PCA(n_components=64)\n",
    "    VWpca = pca.fit_transform(visual_words)\n",
    "    knnpca = KNeighborsClassifier(n_neighbors=n,n_jobs=-1,metric='euclidean')\n",
    "    knnpca.fit(VWpca, train_labels) \n",
    "    vwtestpca = pca.transform(visual_words_test)\n",
    "    accuracy = 100*knnpca.score(vwtestpca, test_labels)\n",
    "    kpca_acc.append(accuracy)\n",
    "\n",
    "    lda = LinearDiscriminantAnalysis()\n",
    "    VWlda = lda.fit_transform(visual_words,train_labels)\n",
    "    knnlda = KNeighborsClassifier(n_neighbors=n,n_jobs=-1,metric='euclidean')\n",
    "    knnlda.fit(VWlda, train_labels) \n",
    "    vwtestlda = lda.transform(visual_words_test)\n",
    "    accuracy = 100*knnlda.score(vwtestlda, test_labels)\n",
    "    klda_acc.append(accuracy)\n",
    "    \n",
    "import matplotlib.pyplot as plt\n",
    "\n",
    "plt.plot(neighbours,knn_acc)\n",
    "plt.ylabel('Accuracy: KNN')\n",
    "plt.xlabel('Number of Neighbours')\n",
    "plt.show()\n",
    "\n",
    "plt.plot(neighbours,kpca_acc)\n",
    "plt.ylabel('Accuracy: PCA')\n",
    "plt.xlabel('Number of Neighbours')\n",
    "plt.show()\n",
    "\n",
    "plt.plot(neighbours,klda_acc)\n",
    "plt.ylabel('Accuracy: LDA')\n",
    "plt.xlabel('Number of Neighbours')\n",
    "plt.show()\n",
    "\n"
   ]
  },
  {
   "cell_type": "markdown",
   "metadata": {},
   "source": [
    "Now we repeat the previous steps, but in this case we compute the keypoints with DENSE method, by default we initialize\n",
    "the keypoint detector with 20 pixels width. The key points are separated by 20 pixels and we compute the keypoints with 5\n",
    "different scales.\n",
    "\n",
    "After this, we will compare the accuracy between SIFT keypoints and DENSE keypoints."
   ]
  },
  {
   "cell_type": "code",
   "execution_count": 2,
   "metadata": {
    "jupyter": {
     "outputs_hidden": false
    },
    "pycharm": {
     "name": "#%%\n"
    }
   },
   "outputs": [
    {
     "name": "stdout",
     "output_type": "stream",
     "text": [
      "KNN accuracy:74.72118959107806\n",
      "PCA accuracy:74.34944237918215\n",
      "LDA accuracy:79.5539033457249\n"
     ]
    }
   ],
   "source": [
    "%reset -f\n",
    "import cv2\n",
    "import numpy as np\n",
    "import _pickle as cPickle\n",
    "from sklearn.cluster import MiniBatchKMeans\n",
    "from sklearn.neighbors import KNeighborsClassifier\n",
    "from sklearn.decomposition import PCA\n",
    "from sklearn.discriminant_analysis import LinearDiscriminantAnalysis\n",
    "\n",
    "train_images_filenames = cPickle.load(open('train_images_filenames.dat','rb'))\n",
    "test_images_filenames = cPickle.load(open('test_images_filenames.dat','rb'))\n",
    "train_labels = cPickle.load(open('train_labels.dat','rb'))\n",
    "test_labels = cPickle.load(open('test_labels.dat','rb'))\n",
    "\n",
    "class DenseDetector():\n",
    "    def __init__(self, step_size=20, feature_scale=20, img_bound=20):\n",
    "        # Create a dense feature detector\n",
    "        self.initXyStep = step_size\n",
    "        self.initFeatureScale = feature_scale\n",
    "        self.initImgBound = img_bound\n",
    "\n",
    "    def detect(self, img):\n",
    "        keypoints = []\n",
    "        rows, cols = img.shape[:2]\n",
    "        for x in range(self.initImgBound, rows, self.initFeatureScale):\n",
    "            for y in range(self.initImgBound, cols, self.initFeatureScale):\n",
    "                keypoints.append(cv2.KeyPoint(float(x), float(y), self.initXyStep))\n",
    "        return keypoints\n",
    "\n",
    "SIFTdetector = cv2.xfeatures2d.SIFT_create(nfeatures=300)\n",
    "\n",
    "Train_descriptors = []\n",
    "Train_label_per_descriptor = []\n",
    "\n",
    "for filename,labels in zip(train_images_filenames,train_labels):\n",
    "    ima=cv2.imread(filename)\n",
    "    gray=cv2.cvtColor(ima,cv2.COLOR_BGR2GRAY)\n",
    "    kpt = DenseDetector(10, 10, 5).detect(gray)\n",
    "    kpt,des=SIFTdetector.compute(gray,kpt)\n",
    "\n",
    "    Train_descriptors.append(des)\n",
    "    Train_label_per_descriptor.append(labels)\n",
    "\n",
    "D=np.vstack(Train_descriptors)\n",
    "\n",
    "k = 128\n",
    "codebook = MiniBatchKMeans(n_clusters=k, verbose=False, batch_size=k * 20,compute_labels=False,reassignment_ratio=10**-4,random_state=42)\n",
    "codebook.fit(D)\n",
    "\n",
    "visual_words=np.zeros((len(Train_descriptors),k),dtype=np.float32)\n",
    "for i in range(len(Train_descriptors)):\n",
    "    words=codebook.predict(Train_descriptors[i])\n",
    "    visual_words[i,:]=np.bincount(words,minlength=k)\n",
    "\n",
    "\n",
    "knn = KNeighborsClassifier(n_neighbors=5,n_jobs=-1,metric='euclidean')\n",
    "knn.fit(visual_words, train_labels)\n",
    "\n",
    "visual_words_test=np.zeros((len(test_images_filenames),k),dtype=np.float32)\n",
    "for i in range(len(test_images_filenames)):\n",
    "    filename=test_images_filenames[i]\n",
    "    ima=cv2.imread(filename)\n",
    "    gray=cv2.cvtColor(ima,cv2.COLOR_BGR2GRAY)\n",
    "    kpt = DenseDetector(10, 10, 5).detect(gray)\n",
    "    kpt,des=SIFTdetector.compute(gray,kpt)\n",
    "    words=codebook.predict(des)\n",
    "    visual_words_test[i,:]=np.bincount(words,minlength=k)\n",
    "\n",
    "accuracy = 100*knn.score(visual_words_test, test_labels)\n",
    "print(\"KNN accuracy:\" + str(accuracy))\n",
    "\n",
    "\n",
    "pca = PCA(n_components=64)\n",
    "VWpca = pca.fit_transform(visual_words)\n",
    "knnpca = KNeighborsClassifier(n_neighbors=5,n_jobs=-1,metric='euclidean')\n",
    "knnpca.fit(VWpca, train_labels)\n",
    "vwtestpca = pca.transform(visual_words_test)\n",
    "accuracy = 100*knnpca.score(vwtestpca, test_labels)\n",
    "print(\"PCA accuracy:\"+str(accuracy))\n",
    "\n",
    "lda = LinearDiscriminantAnalysis()\n",
    "VWlda = lda.fit_transform(visual_words,train_labels)\n",
    "knnlda = KNeighborsClassifier(n_neighbors=5,n_jobs=-1,metric='euclidean')\n",
    "knnlda.fit(VWlda, train_labels)\n",
    "vwtestlda = lda.transform(visual_words_test)\n",
    "accuracy = 100*knnlda.score(vwtestlda, test_labels)\n",
    "print(\"LDA accuracy:\"+str(accuracy))"
   ]
  },
  {
   "cell_type": "markdown",
   "metadata": {
    "pycharm": {
     "name": "#%% md\n"
    }
   },
   "source": [
    "We can see that the accuracy is more better with DENSE keypoints that SIFT keypoints. The main difference is that with DENSE\n",
    "method, we compute a descriptors with a fixed with and the descriptors fit the image size.\n"
   ]
  },
  {
   "cell_type": "code",
   "execution_count": 16,
   "metadata": {
    "jupyter": {
     "outputs_hidden": false
    },
    "pycharm": {
     "name": "#%%\n"
    }
   },
   "outputs": [],
   "source": [
    "%reset -f\n",
    "import cv2\n",
    "import numpy as np\n",
    "import time\n",
    "import _pickle as cPickle\n",
    "from sklearn.cluster import MiniBatchKMeans\n",
    "from sklearn.neighbors import KNeighborsClassifier\n",
    "from sklearn.decomposition import PCA\n",
    "from sklearn.discriminant_analysis import LinearDiscriminantAnalysis\n",
    "\n",
    "train_images_filenames = cPickle.load(open('train_images_filenames.dat','rb'))\n",
    "test_images_filenames = cPickle.load(open('test_images_filenames.dat','rb'))\n",
    "train_labels = cPickle.load(open('train_labels.dat','rb'))\n",
    "test_labels = cPickle.load(open('test_labels.dat','rb'))\n",
    "accuracy_knn = []\n",
    "accuracy_pca = []\n",
    "accuracy_lda = []\n",
    "train_time =[]\n",
    "features = np.arange(50,1000,50)\n",
    "for nfeatures in features:\n",
    "    SIFTdetector = cv2.xfeatures2d.SIFT_create(nfeatures= int(nfeatures))\n",
    "\n",
    "    Train_descriptors = []\n",
    "    Train_label_per_descriptor = []\n",
    "\n",
    "    for filename,labels in zip(train_images_filenames,train_labels):\n",
    "        ima=cv2.imread(filename)\n",
    "        gray=cv2.cvtColor(ima,cv2.COLOR_BGR2GRAY)\n",
    "        kpt,des=SIFTdetector.detectAndCompute(gray,None)\n",
    "\n",
    "        Train_descriptors.append(des)\n",
    "        Train_label_per_descriptor.append(labels)\n",
    "\n",
    "    D=np.vstack(Train_descriptors)\n",
    "\n",
    "    k = 128\n",
    "    start = time.time()\n",
    "    codebook = MiniBatchKMeans(n_clusters=k, verbose=False, batch_size=k * 20,compute_labels=False,reassignment_ratio=10**-4,random_state=42)\n",
    "    codebook.fit(D)\n",
    "    elapsed_time = (time.time() - start)\n",
    "\n",
    "    train_time.append(elapsed_time)\n",
    "    visual_words=np.zeros((len(Train_descriptors),k),dtype=np.float32)\n",
    "    for i in range(len(Train_descriptors)):\n",
    "        words=codebook.predict(Train_descriptors[i])\n",
    "        visual_words[i,:]=np.bincount(words,minlength=k)\n",
    "\n",
    "\n",
    "    knn = KNeighborsClassifier(n_neighbors=5,n_jobs=-1,metric='euclidean')\n",
    "    knn.fit(visual_words, train_labels)\n",
    "\n",
    "    visual_words_test=np.zeros((len(test_images_filenames),k),dtype=np.float32)\n",
    "    for i in range(len(test_images_filenames)):\n",
    "        filename=test_images_filenames[i]\n",
    "        ima=cv2.imread(filename)\n",
    "        gray=cv2.cvtColor(ima,cv2.COLOR_BGR2GRAY)\n",
    "        kpt,des=SIFTdetector.detectAndCompute(gray,None)\n",
    "        words=codebook.predict(des)\n",
    "        visual_words_test[i,:]=np.bincount(words,minlength=k)\n",
    "\n",
    "    accuracy = 100*knn.score(visual_words_test, test_labels)\n",
    "    accuracy_knn.append(accuracy)\n",
    "\n",
    "\n",
    "    pca = PCA(n_components=64)\n",
    "    VWpca = pca.fit_transform(visual_words)\n",
    "    knnpca = KNeighborsClassifier(n_neighbors=5,n_jobs=-1,metric='euclidean')\n",
    "    knnpca.fit(VWpca, train_labels)\n",
    "    vwtestpca = pca.transform(visual_words_test)\n",
    "    accuracy = 100*knnpca.score(vwtestpca, test_labels)\n",
    "    accuracy_pca.append(accuracy)\n",
    "\n",
    "    lda = LinearDiscriminantAnalysis()\n",
    "    VWlda = lda.fit_transform(visual_words,train_labels)\n",
    "    knnlda = KNeighborsClassifier(n_neighbors=5,n_jobs=-1,metric='euclidean')\n",
    "    knnlda.fit(VWlda, train_labels)\n",
    "    vwtestlda = lda.transform(visual_words_test)\n",
    "    accuracy = 100*knnlda.score(vwtestlda, test_labels)\n",
    "\n",
    "    accuracy_lda.append(accuracy)"
   ]
  },
  {
   "cell_type": "markdown",
   "metadata": {
    "pycharm": {
     "name": "#%% md\n"
    }
   },
   "source": [
    "Now, we test the process with different amount of features to compare the performance."
   ]
  },
  {
   "cell_type": "code",
   "execution_count": 20,
   "metadata": {
    "jupyter": {
     "outputs_hidden": false
    },
    "pycharm": {
     "name": "#%%\n"
    }
   },
   "outputs": [
    {
     "data": {
      "text/plain": "<Figure size 432x288 with 1 Axes>",
      "image/png": "[encoded data removed]"
     },
     "metadata": {
      "needs_background": "light"
     },
     "output_type": "display_data"
    },
    {
     "data": {
      "text/plain": "<Figure size 432x288 with 1 Axes>",
      "image/png": "[encoded data removed]"
     },
     "metadata": {
      "needs_background": "light"
     },
     "output_type": "display_data"
    },
    {
     "data": {
      "text/plain": "<Figure size 432x288 with 1 Axes>",
      "image/png": "[encoded data removed]"
     },
     "metadata": {
      "needs_background": "light"
     },
     "output_type": "display_data"
    },
    {
     "data": {
      "text/plain": "<Figure size 432x288 with 1 Axes>",
      "image/png": "[encoded data removed]"
     },
     "metadata": {
      "needs_background": "light"
     },
     "output_type": "display_data"
    }
   ],
   "source": [
    "import matplotlib.pyplot as plt\n",
    "\n",
    "plt.plot(features,accuracy_knn)\n",
    "plt.ylabel('Accuracy: KNN')\n",
    "plt.xlabel('Number of features')\n",
    "plt.show()\n",
    "\n",
    "plt.plot(features,accuracy_pca)\n",
    "plt.ylabel('Accuracy: PCA')\n",
    "plt.xlabel('Number of features')\n",
    "plt.show()\n",
    "\n",
    "plt.plot(features,accuracy_lda)\n",
    "plt.ylabel('Accuracy: LDA')\n",
    "plt.xlabel('Number of features')\n",
    "plt.show()\n",
    "\n",
    "plt.plot(features,train_time)\n",
    "plt.ylabel('Time of training')\n",
    "plt.xlabel('Number of features')\n",
    "plt.show()"
   ]
  },
  {
   "cell_type": "markdown",
   "metadata": {
    "pycharm": {
     "name": "#%% md\n"
    }
   },
   "source": [
    "We can see that if we increment the amount of features, the performance is better, but the computational time it's to longer,\n",
    "because the computer needs more memory to store all the descriptors values."
   ]
  },
  {
   "cell_type": "markdown",
   "metadata": {},
   "source": [
    "Now we will vary the metric used while building the K-NN classifier. In this section we will use the following metrics and compare them: Euclidean (base case), Manhattan, and Chebyshev"
   ]
  },
  {
   "cell_type": "code",
   "execution_count": 18,
   "metadata": {},
   "outputs": [
    {
     "name": "stdout",
     "output_type": "stream",
     "text": [
      "Eucliedean:\n",
      "57.74473358116481\n",
      "Manhattan:\n",
      "55.88599752168525\n",
      "Chebyshev:\n",
      "47.95539033457249\n"
     ]
    }
   ],
   "source": [
    "knn = KNeighborsClassifier(n_neighbors=5,n_jobs=-1,metric='euclidean')\n",
    "knn.fit(visual_words, train_labels) \n",
    "knn_manhattan = KNeighborsClassifier(n_neighbors=5,n_jobs=-1,metric='manhattan')\n",
    "knn_manhattan.fit(visual_words, train_labels)\n",
    "knn_chebyshev = KNeighborsClassifier(n_neighbors=5,n_jobs=-1,metric='chebyshev')\n",
    "knn_chebyshev.fit(visual_words, train_labels)\n",
    "\n",
    "accuracy = 100*knn.score(visual_words_test, test_labels)\n",
    "print('Eucliedean:')\n",
    "print(accuracy)\n",
    "accuracy = 100*knn_manhattan.score(visual_words_test, test_labels)\n",
    "print('Manhattan:')\n",
    "print(accuracy)\n",
    "accuracy = 100*knn_chebyshev.score(visual_words_test, test_labels)\n",
    "print('Chebyshev:')\n",
    "print(accuracy)"
   ]
  },
  {
   "cell_type": "markdown",
   "metadata": {},
   "source": [
    "Similarly, we also check the variations on the metric used when applying Dimensionality Reduction with PCA"
   ]
  },
  {
   "cell_type": "code",
   "execution_count": 19,
   "metadata": {},
   "outputs": [
    {
     "name": "stdout",
     "output_type": "stream",
     "text": [
      "Euclidean:\n",
      "58.116480793060724\n",
      "Manhattan:\n",
      "55.39033457249071\n",
      "Chebyshev:\n",
      "57.49690210656754\n"
     ]
    }
   ],
   "source": [
    "pca = PCA(n_components=64)\n",
    "VWpca = pca.fit_transform(visual_words)\n",
    "knnpca = KNeighborsClassifier(n_neighbors=5,n_jobs=-1,metric='euclidean')\n",
    "knnpca.fit(VWpca, train_labels)\n",
    "vwtestpca = pca.transform(visual_words_test)\n",
    "accuracy = 100*knnpca.score(vwtestpca, test_labels)\n",
    "print('Euclidean:')\n",
    "print(accuracy)\n",
    "\n",
    "knnpca = KNeighborsClassifier(n_neighbors=5,n_jobs=-1,metric='manhattan')\n",
    "knnpca.fit(VWpca, train_labels)\n",
    "accuracy = 100*knnpca.score(vwtestpca, test_labels)\n",
    "print('Manhattan:')\n",
    "print(accuracy)\n",
    "\n",
    "knnpca = KNeighborsClassifier(n_neighbors=5,n_jobs=-1,metric='chebyshev')\n",
    "knnpca.fit(VWpca, train_labels)\n",
    "accuracy = 100*knnpca.score(vwtestpca, test_labels)\n",
    "print('Chebyshev:')\n",
    "print(accuracy)"
   ]
  },
  {
   "cell_type": "markdown",
   "metadata": {},
   "source": [
    "And we also check what happens when applying Dimensionality Reduction with LDA"
   ]
  },
  {
   "cell_type": "code",
   "execution_count": 20,
   "metadata": {},
   "outputs": [
    {
     "name": "stdout",
     "output_type": "stream",
     "text": [
      "Euclidean:\n",
      "62.70136307311029\n",
      "Manhattan:\n",
      "62.825278810408925\n",
      "Chebyshev:\n",
      "60.594795539033456\n"
     ]
    }
   ],
   "source": [
    "lda = LinearDiscriminantAnalysis()\n",
    "VWlda = lda.fit_transform(visual_words,train_labels)\n",
    "\n",
    "knnlda = KNeighborsClassifier(n_neighbors=5,n_jobs=-1,metric='euclidean')\n",
    "knnlda.fit(VWlda, train_labels) \n",
    "vwtestlda = lda.transform(visual_words_test)\n",
    "accuracy = 100*knnlda.score(vwtestlda, test_labels)\n",
    "print('Euclidean:')\n",
    "print(accuracy)\n",
    "\n",
    "knnlda = KNeighborsClassifier(n_neighbors=5,n_jobs=-1,metric='manhattan')\n",
    "knnlda.fit(VWlda, train_labels) \n",
    "accuracy = 100*knnlda.score(vwtestlda, test_labels)\n",
    "print('Manhattan:')\n",
    "print(accuracy)\n",
    "\n",
    "knnlda = KNeighborsClassifier(n_neighbors=5,n_jobs=-1,metric='chebyshev')\n",
    "knnlda.fit(VWlda, train_labels) \n",
    "accuracy = 100*knnlda.score(vwtestlda, test_labels)\n",
    "print('Chebyshev:')\n",
    "print(accuracy)"
   ]
  },
  {
   "cell_type": "markdown",
   "metadata": {},
   "source": [
    "Without reducing dimensionality, we can see that varying the distance metrics used produces different results. In this scenario, Euclidean distance has worked the best since it takes into account the real distance between a pair of points. Manhattan distance has ranked second between the three metrics tested, this is probably due to Manhattan distance being the shortest of all the possible 'routes' inside a grid to get from point A to point B. Chebyshev distance has ranked last producing the lowest accuracy out of all the metrics used, therefore we can conclude that for bigger dimensionalities.\n",
    "\n",
    "When reducing dimensionality using PCA, we observe that the not only that the ranking remains unchanged but also that clustering has now produced better results thus increasing the accuracy.\n",
    "\n",
    "Finally, when reducing dimensionality using LDA we notice some interesting changes. Not only has the results improved accross the board, but also the gap between the results produced by the different metrics has shortened. Another noticeable change is that the ranking has shifted with Chebyshev performing the best out of all the metrics tested, although the diference in performance is not significant in this scenario."
   ]
  },
  {
   "cell_type": "code",
   "metadata": {
    "pycharm": {
     "name": "#%%\n"
    }
   },
   "source": [
    "\n",
    "%reset -f\n",
    "import cv2\n",
    "import numpy as np\n",
    "import time\n",
    "import _pickle as cPickle\n",
    "import random\n",
    "from sklearn.cluster import MiniBatchKMeans\n",
    "from sklearn.neighbors import KNeighborsClassifier\n",
    "from sklearn.decomposition import PCA\n",
    "from sklearn.discriminant_analysis import LinearDiscriminantAnalysis\n",
    "\n",
    "train_images_filenames = cPickle.load(open('train_images_filenames.dat','rb'))\n",
    "test_images_filenames = cPickle.load(open('test_images_filenames.dat','rb'))\n",
    "train_labels = cPickle.load(open('train_labels.dat','rb'))\n",
    "test_labels = cPickle.load(open('test_labels.dat','rb'))\n",
    "\n",
    "all_images_filenames = train_images_filenames + test_images_filenames\n",
    "all_images_labels = train_labels+test_labels\n",
    "categories = ['coast','forest','highway','inside_city','mountain','Opencountry','street','tallbuilding']\n",
    "\n",
    "set1_filenames = []\n",
    "set2_filenames = []\n",
    "set3_filenames = []\n",
    "\n",
    "set1_labels = []\n",
    "set2_labels = []\n",
    "set3_labels = []\n",
    "c = list(zip(all_images_filenames, all_images_labels))\n",
    "random.shuffle(c)\n",
    "a,b = zip(*c)\n",
    "for cat in categories:\n",
    "    filename_matches = [s for s in all_images_filenames if cat in s]\n",
    "    label_matches = [s for s in all_images_labels if cat in s]\n",
    "    c = list(zip(filename_matches,label_matches))\n",
    "    random.shuffle(c)\n",
    "    filename_matches,label_matches = zip(*c)\n",
    "    print(len(filename_matches))\n",
    "    print(len(label_matches))\n",
    "    n_features = int(len(filename_matches)/3)\n",
    "\n",
    "    set1_filenames.extend(filename_matches[0:n_features-1])\n",
    "    set1_labels.extend(label_matches[0:n_features-1])\n",
    "\n",
    "    set2_filenames.extend(filename_matches[n_features:(n_features * 2) - 1])\n",
    "    set2_labels.extend(label_matches[n_features:(n_features * 2) - 1])\n",
    "\n",
    "    set3_filenames.extend(filename_matches[n_features * 2:])\n",
    "    set3_labels.extend(label_matches[n_features * 2:])\n",
    "\n"
   ],
   "execution_count": 29,
   "outputs": [
    {
     "name": "stdout",
     "output_type": "stream",
     "text": [
      "360\n",
      "360\n",
      "328\n",
      "328\n",
      "260\n",
      "260\n",
      "308\n",
      "308\n",
      "374\n",
      "374\n",
      "410\n",
      "410\n",
      "292\n",
      "292\n",
      "356\n",
      "356\n",
      "['../../Databases/MIT_split/test/coast/land340.jpg', '../../Databases/MIT_split/train/coast/nat288.jpg', '../../Databases/MIT_split/test/coast/gre637.jpg', '../../Databases/MIT_split/train/forest/cdmc12.jpg', '../../Databases/MIT_split/train/forest/cdmc281.jpg', '../../Databases/MIT_split/train/forest/text105.jpg', '../../Databases/MIT_split/test/forest/natu994.jpg', '../../Databases/MIT_split/train/forest/nat867.jpg', '../../Databases/MIT_split/train/forest/nat205.jpg']\n",
      "['coast', 'coast', 'coast', 'forest', 'forest', 'forest', 'forest', 'forest', 'forest']\n"
     ]
    },
    {
     "data": {
      "text/plain": "'print(train_images_filenames)\\nprint(train_labels)'"
     },
     "execution_count": 29,
     "metadata": {},
     "output_type": "execute_result"
    }
   ]
  }
 ],
 "metadata": {
  "kernelspec": {
   "display_name": "Python 3",
   "language": "python",
   "name": "python3"
  },
  "language_info": {
   "codemirror_mode": {
    "name": "ipython",
    "version": 3
   },
   "file_extension": ".py",
   "mimetype": "text/x-python",
   "name": "python",
   "nbconvert_exporter": "python",
   "pygments_lexer": "ipython3",
   "version": "3.7.4"
  }
 },
 "nbformat": 4,
 "nbformat_minor": 4
}