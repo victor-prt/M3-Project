{
 "cells": [
  {
   "cell_type": "code",
   "execution_count": 10,
   "metadata": {
    "pycharm": {
     "name": "#%%\n"
    }
   },
   "outputs": [],
   "source": [
    "import cv2\n",
    "import numpy as np\n",
    "import _pickle as cPickle\n",
    "from sklearn.cluster import MiniBatchKMeans\n",
    "from sklearn.neighbors import KNeighborsClassifier\n",
    "from sklearn.decomposition import PCA\n",
    "from sklearn.discriminant_analysis import LinearDiscriminantAnalysis\n",
    "import random\n",
    "from datetime import datetime\n",
    "import matplotlib.pyplot as plt\n",
    "from sklearn import preprocessing\n",
    "\n"
   ]
  },
  {
   "cell_type": "markdown",
   "metadata": {},
   "source": [
    "Let us first read the train and test files"
   ]
  },
  {
   "cell_type": "code",
   "execution_count": 2,
   "metadata": {
    "pycharm": {
     "name": "#%%\n"
    }
   },
   "outputs": [],
   "source": [
    "train_images_filenames = cPickle.load(open('../Data/train_images_filenames.dat','rb'))\n",
    "test_images_filenames = cPickle.load(open('../Data/test_images_filenames.dat','rb'))\n",
    "train_labels = cPickle.load(open('../Data/train_labels.dat','rb'))\n",
    "test_labels = cPickle.load(open('../Data/test_labels.dat','rb'))\n",
    "\n"
   ]
  },
  {
   "cell_type": "markdown",
   "metadata": {},
   "source": [
    "Let us, we create a Dense keypoint detector:"
   ]
  },
  {
   "cell_type": "code",
   "execution_count": 3,
   "metadata": {
    "pycharm": {
     "name": "#%%\n"
    }
   },
   "outputs": [],
   "source": [
    "class DenseDetector():\n",
    "    def __init__(self, step_size=20, feature_scale=20, img_bound=20):\n",
    "        # Create a dense feature detector\n",
    "        self.initXyStep = step_size\n",
    "        self.initFeatureScale = feature_scale\n",
    "        self.initImgBound = img_bound\n",
    "\n",
    "    def detect(self, img):\n",
    "        keypoints = []\n",
    "        rows, cols = img.shape[:2]\n",
    "        for x in range(self.initImgBound, rows, self.initFeatureScale):\n",
    "            for y in range(self.initImgBound, cols, self.initFeatureScale):\n",
    "                keypoints.append(cv2.KeyPoint(float(x), float(y), self.initXyStep))\n",
    "        return keypoints"
   ]
  },
  {
   "cell_type": "markdown",
   "metadata": {},
   "source": [
    "We create a cross-validation functions that returns three equal size datasets of images:"
   ]
  },
  {
   "cell_type": "code",
   "execution_count": 4,
   "metadata": {
    "pycharm": {
     "name": "#%%\n"
    }
   },
   "outputs": [],
   "source": [
    "def construct_sets(train_images_filenames,test_images_filenames,train_labels,test_labels):\n",
    "    all_images_filenames = train_images_filenames + test_images_filenames\n",
    "    all_images_labels = train_labels+test_labels\n",
    "    categories = []\n",
    "\n",
    "    for label in all_images_labels:\n",
    "        if label not in categories:\n",
    "            categories.append(label)\n",
    "\n",
    "    set1_filenames = []\n",
    "    set2_filenames = []\n",
    "    set3_filenames = []\n",
    "\n",
    "    set1_labels = []\n",
    "    set2_labels = []\n",
    "    set3_labels = []\n",
    "    c = list(zip(all_images_filenames, all_images_labels))\n",
    "    random.shuffle(c)\n",
    "    a,b = zip(*c)\n",
    "    for cat in categories:\n",
    "        filename_matches = [s for s in all_images_filenames if cat in s]\n",
    "\n",
    "        label_matches = [s for s in all_images_labels if cat in s]\n",
    "        c = list(zip(filename_matches,label_matches))\n",
    "        random.shuffle(c)\n",
    "        filename_matches,label_matches = zip(*c)\n",
    "        n_features = int(len(filename_matches)/3)\n",
    "        sets_filenames = np.array_split(filename_matches,3)\n",
    "        sets_labels = np.array_split(label_matches,3)\n",
    "\n",
    "        set1_filenames.extend(sets_filenames[0])\n",
    "        set1_labels.extend(sets_labels[0])\n",
    "\n",
    "        set2_filenames.extend(sets_filenames[1])\n",
    "        set2_labels.extend(sets_labels[1])\n",
    "\n",
    "        set3_filenames.extend(sets_filenames[2])\n",
    "        set3_labels.extend(sets_labels[2])\n",
    "\n",
    "    return [set1_filenames,set2_filenames,set3_filenames],[set1_labels,set2_labels,set3_labels]"
   ]
  },
  {
   "cell_type": "markdown",
   "metadata": {
    "pycharm": {
     "name": "#%% md\n"
    }
   },
   "source": [
    "Now, we compute the results with Dense keypoint detector at different scales and tiny steps."
   ]
  },
  {
   "cell_type": "code",
   "execution_count": 5,
   "metadata": {
    "pycharm": {
     "name": "#%%\n"
    }
   },
   "outputs": [],
   "source": [
    "\n",
    "SIFTdetector = cv2.xfeatures2d.SIFT_create(nfeatures=300)\n",
    "\n",
    "\n",
    "images,categories = construct_sets(train_images_filenames,test_images_filenames,train_labels,test_labels)\n",
    "scales = [5,6,7,8,9,10,11,12,13,14,15,16,17,18,19,20]\n",
    "total_knn_accuracy = []\n",
    "total_pca_accuracy = []\n",
    "total_lda_accuracy = []\n",
    "\n",
    "for scale in scales:\n",
    "\n",
    "    for item,key in enumerate(images):\n",
    "        knn_accuracy = []\n",
    "        pca_accuracy = []\n",
    "        lda_accuracy = []\n",
    "        Train_descriptors = []\n",
    "        Train_label_per_descriptor = []\n",
    "\n",
    "        if item == 0:\n",
    "            train_filenames = images[0] + images[1]\n",
    "            train_categories = categories[0] + categories[1]\n",
    "            test_filenames = images[2]\n",
    "            test_categories = categories[2]\n",
    "        elif item == 1:\n",
    "            train_ilenames = images[0] + images[2]\n",
    "            train_categories = categories[0] + categories[2]\n",
    "            test_filenames = images[1]\n",
    "            test_categories = categories[1]\n",
    "        else:\n",
    "            train_filenames = images[1] + images[2]\n",
    "            train_categories = categories[1] + categories[2]\n",
    "            test_filenames = images[0]\n",
    "            test_categories = categories[0]\n",
    "\n",
    "        for filename,labels in zip(train_filenames,train_categories):\n",
    "            ima=cv2.imread(filename)\n",
    "            gray=cv2.cvtColor(ima,cv2.COLOR_BGR2GRAY)\n",
    "            kpt = DenseDetector(10, scale, 10).detect(gray)\n",
    "            kpt,des=SIFTdetector.compute(gray,kpt)\n",
    "\n",
    "            Train_descriptors.append(des)\n",
    "            Train_label_per_descriptor.append(labels)\n",
    "        D=np.vstack(Train_descriptors)\n",
    "        k = 128\n",
    "        codebook = MiniBatchKMeans(n_clusters=k, verbose=False, batch_size=k * 20,compute_labels=False,reassignment_ratio=10**-4,random_state=42)\n",
    "        codebook.fit(D)\n",
    "        visual_words=np.zeros((len(Train_descriptors),k),dtype=np.float32)\n",
    "        for i in range(len(Train_descriptors)):\n",
    "            words=codebook.predict(Train_descriptors[i])\n",
    "            visual_words[i,:]=np.bincount(words,minlength=k)\n",
    "\n",
    "\n",
    "        knn = KNeighborsClassifier(n_neighbors=5,n_jobs=-1,metric='euclidean')\n",
    "        knn.fit(visual_words, train_categories)\n",
    "\n",
    "        visual_words_test=np.zeros((len(test_filenames),k),dtype=np.float32)\n",
    "        for i in range(len(test_filenames)):\n",
    "            filename=test_filenames[i]\n",
    "            ima=cv2.imread(filename)\n",
    "            gray=cv2.cvtColor(ima,cv2.COLOR_BGR2GRAY)\n",
    "            kpt = DenseDetector(10, scale, 10).detect(gray)\n",
    "            kpt,des=SIFTdetector.compute(gray,kpt)\n",
    "            words=codebook.predict(des)\n",
    "            visual_words_test[i,:]=np.bincount(words,minlength=k)\n",
    "\n",
    "        accuracy = 100*knn.score(visual_words_test, test_categories)\n",
    "        knn_accuracy.append(accuracy)\n",
    "\n",
    "\n",
    "        pca = PCA(n_components=64)\n",
    "        VWpca = pca.fit_transform(visual_words)\n",
    "        knnpca = KNeighborsClassifier(n_neighbors=5,n_jobs=-1,metric='euclidean')\n",
    "        knnpca.fit(VWpca, train_categories)\n",
    "        vwtestpca = pca.transform(visual_words_test)\n",
    "        accuracy = 100*knnpca.score(vwtestpca, test_categories)\n",
    "        pca_accuracy.append(accuracy)\n",
    "\n",
    "        lda = LinearDiscriminantAnalysis()\n",
    "        VWlda = lda.fit_transform(visual_words,train_categories)\n",
    "        knnlda = KNeighborsClassifier(n_neighbors=5,n_jobs=-1,metric='euclidean')\n",
    "        knnlda.fit(VWlda, train_categories)\n",
    "        vwtestlda = lda.transform(visual_words_test)\n",
    "        accuracy = 100*knnlda.score(vwtestlda, test_categories)\n",
    "        lda_accuracy.append(accuracy)\n",
    "\n",
    "    knn_accuracy = np.array(knn_accuracy)\n",
    "    lda_accuracy = np.array(lda_accuracy)\n",
    "    pca_accuracy = np.array(pca_accuracy)\n",
    "\n",
    "    total_knn_accuracy.append(knn_accuracy.mean())\n",
    "    total_lda_accuracy.append(lda_accuracy.mean())\n",
    "    total_pca_accuracy.append(pca_accuracy.mean())"
   ]
  },
  {
   "cell_type": "markdown",
   "metadata": {
    "pycharm": {
     "name": "#%% md\n"
    }
   },
   "source": [
    "We can observe that performance is variable, the performance depends with the scaling factor. We obtain the best performance\n",
    "with scaling factor by 11."
   ]
  },
  {
   "cell_type": "code",
   "execution_count": 12,
   "metadata": {
    "pycharm": {
     "name": "#%%\n"
    }
   },
   "outputs": [
    {
     "data": {
      "image/png": "[encoded data removed]",
      "text/plain": [
       "<Figure size 432x288 with 1 Axes>"
      ]
     },
     "metadata": {
      "needs_background": "light"
     },
     "output_type": "display_data"
    },
    {
     "data": {
      "image/png": "[encoded data removed]",
      "text/plain": [
       "<Figure size 432x288 with 1 Axes>"
      ]
     },
     "metadata": {
      "needs_background": "light"
     },
     "output_type": "display_data"
    },
    {
     "data": {
      "image/png": "[encoded data removed]",
      "text/plain": [
       "<Figure size 432x288 with 1 Axes>"
      ]
     },
     "metadata": {
      "needs_background": "light"
     },
     "output_type": "display_data"
    }
   ],
   "source": [
    "plt.plot(scales,total_knn_accuracy)\n",
    "plt.ylabel('Accuracy: KNN')\n",
    "plt.xlabel('Scale')\n",
    "plt.show()\n",
    "\n",
    "plt.plot(scales,total_lda_accuracy)\n",
    "plt.ylabel('Accuracy: LDA')\n",
    "plt.xlabel('Scale')\n",
    "plt.show()\n",
    "\n",
    "plt.plot(scales,total_pca_accuracy)\n",
    "plt.ylabel('Accuracy: PCA')\n",
    "plt.xlabel('Scale')\n",
    "plt.show()"
   ]
  },
  {
   "cell_type": "markdown",
   "metadata": {
    "pycharm": {
     "name": "#%% md\n"
    }
   },
   "source": [
    "Now we execute the process with a normalization l2 in feature extraction:"
   ]
  },
  {
   "cell_type": "code",
   "execution_count": 19,
   "metadata": {
    "pycharm": {
     "name": "#%%\n"
    }
   },
   "outputs": [],
   "source": [
    "train_images_filenames = cPickle.load(open('../Data/train_images_filenames.dat','rb'))\n",
    "test_images_filenames = cPickle.load(open('../Data/test_images_filenames.dat','rb'))\n",
    "train_labels = cPickle.load(open('../Data/train_labels.dat','rb'))\n",
    "test_labels = cPickle.load(open('../Data/test_labels.dat','rb'))\n",
    "\n",
    "images,categories = construct_sets(train_images_filenames,test_images_filenames,train_labels,test_labels)\n",
    "\n",
    "knn_accuracy_norm = []\n",
    "lda_accuracy_norm = []\n",
    "pca_accuracy_norm = []\n",
    "\n",
    "SIFTdetector = cv2.xfeatures2d.SIFT_create(nfeatures=300)\n",
    "for item,key in enumerate(images):\n",
    "    Train_descriptors = []\n",
    "    Train_label_per_descriptor = []\n",
    "    if item == 0:\n",
    "        train_filenames = images[0] + images[1]\n",
    "        train_categories = categories[0] + categories[1]\n",
    "        test_filenames = images[2]\n",
    "        test_categories = categories[2]\n",
    "    elif item == 1:\n",
    "        train_ilenames = images[0] + images[2]\n",
    "        train_categories = categories[0] + categories[2]\n",
    "        test_filenames = images[1]\n",
    "        test_categories = categories[1]\n",
    "    else:\n",
    "        train_filenames = images[1] + images[2]\n",
    "        train_categories = categories[1] + categories[2]\n",
    "        test_filenames = images[0]\n",
    "        test_categories = categories[0]\n",
    "\n",
    "\n",
    "    for filename,labels in zip(train_images_filenames,train_labels):\n",
    "        ima=cv2.imread(filename)\n",
    "        gray=cv2.cvtColor(ima,cv2.COLOR_BGR2GRAY)\n",
    "        kpt,des=SIFTdetector.detectAndCompute(gray,None)\n",
    "\n",
    "        Train_descriptors.append(preprocessing.normalize(des, norm='l2'))\n",
    "        Train_label_per_descriptor.append(labels)\n",
    "\n",
    "    D=np.vstack(Train_descriptors)\n",
    "\n",
    "    k = 128\n",
    "    codebook = MiniBatchKMeans(n_clusters=k, verbose=False, batch_size=k * 20,compute_labels=False,reassignment_ratio=10**-4,random_state=42)\n",
    "    codebook.fit(D)\n",
    "\n",
    "    visual_words=np.zeros((len(Train_descriptors),k),dtype=np.float32)\n",
    "    for i in range(len(Train_descriptors)):\n",
    "        words=codebook.predict(Train_descriptors[i])\n",
    "        visual_words[i,:]=np.bincount(words,minlength=k)\n",
    "\n",
    "    knn = KNeighborsClassifier(n_neighbors=5,n_jobs=-1,metric='euclidean')\n",
    "    knn.fit(visual_words, train_labels)\n",
    "\n",
    "    visual_words_test=np.zeros((len(test_images_filenames),k),dtype=np.float32)\n",
    "    for i in range(len(test_images_filenames)):\n",
    "        filename=test_images_filenames[i]\n",
    "        ima=cv2.imread(filename)\n",
    "        gray=cv2.cvtColor(ima,cv2.COLOR_BGR2GRAY)\n",
    "        kpt,des=SIFTdetector.detectAndCompute(gray,None)\n",
    "        words=codebook.predict(preprocessing.normalize(des, norm='l2'))\n",
    "        visual_words_test[i,:]=np.bincount(words,minlength=k)\n",
    "\n",
    "    accuracy = 100*knn.score(visual_words_test, test_labels)\n",
    "    knn_accuracy_norm.append(accuracy)\n",
    "\n",
    "\n",
    "    pca = PCA(n_components=64)\n",
    "    VWpca = pca.fit_transform(visual_words)\n",
    "    knnpca = KNeighborsClassifier(n_neighbors=5,n_jobs=-1,metric='euclidean')\n",
    "    knnpca.fit(VWpca, train_labels)\n",
    "    vwtestpca = pca.transform(visual_words_test)\n",
    "    accuracy = 100*knnpca.score(vwtestpca, test_labels)\n",
    "    pca_accuracy_norm.append(accuracy)\n",
    "\n",
    "    lda = LinearDiscriminantAnalysis()\n",
    "    VWlda = lda.fit_transform(visual_words,train_labels)\n",
    "    knnlda = KNeighborsClassifier(n_neighbors=5,n_jobs=-1,metric='euclidean')\n",
    "    knnlda.fit(VWlda, train_labels)\n",
    "    vwtestlda = lda.transform(visual_words_test)\n",
    "    accuracy = 100*knnlda.score(vwtestlda, test_labels)\n",
    "    lda_accuracy_norm.append(accuracy)"
   ]
  },
  {
   "cell_type": "markdown",
   "metadata": {
    "pycharm": {
     "name": "#%% md\n"
    }
   },
   "source": [
    "Now we execute the process without l2 normalization in feature extraction to compare the results with l2 normalized\n",
    "features."
   ]
  },
  {
   "cell_type": "code",
   "execution_count": 21,
   "metadata": {
    "pycharm": {
     "name": "#%%\n"
    }
   },
   "outputs": [],
   "source": [
    "\n",
    "train_images_filenames = cPickle.load(open('../Data/train_images_filenames.dat','rb'))\n",
    "test_images_filenames = cPickle.load(open('../Data/test_images_filenames.dat','rb'))\n",
    "train_labels = cPickle.load(open('../Data/train_labels.dat','rb'))\n",
    "test_labels = cPickle.load(open('../Data/test_labels.dat','rb'))\n",
    "\n",
    "images,categories = construct_sets(train_images_filenames,test_images_filenames,train_labels,test_labels)\n",
    "\n",
    "knn_accuracy = []\n",
    "lda_accuracy = []\n",
    "pca_accuracy = []\n",
    "\n",
    "SIFTdetector = cv2.xfeatures2d.SIFT_create(nfeatures=300)\n",
    "for item,key in enumerate(images):\n",
    "    Train_descriptors = []\n",
    "    Train_label_per_descriptor = []\n",
    "    if item == 0:\n",
    "        train_filenames = images[0] + images[1]\n",
    "        train_categories = categories[0] + categories[1]\n",
    "        test_filenames = images[2]\n",
    "        test_categories = categories[2]\n",
    "    elif item == 1:\n",
    "        train_ilenames = images[0] + images[2]\n",
    "        train_categories = categories[0] + categories[2]\n",
    "        test_filenames = images[1]\n",
    "        test_categories = categories[1]\n",
    "    else:\n",
    "        train_filenames = images[1] + images[2]\n",
    "        train_categories = categories[1] + categories[2]\n",
    "        test_filenames = images[0]\n",
    "        test_categories = categories[0]\n",
    "\n",
    "\n",
    "    for filename,labels in zip(train_images_filenames,train_labels):\n",
    "        ima=cv2.imread(filename)\n",
    "        gray=cv2.cvtColor(ima,cv2.COLOR_BGR2GRAY)\n",
    "        kpt,des=SIFTdetector.detectAndCompute(gray,None)\n",
    "\n",
    "        Train_descriptors.append(des)\n",
    "        Train_label_per_descriptor.append(labels)\n",
    "\n",
    "    D=np.vstack(Train_descriptors)\n",
    "\n",
    "    k = 128\n",
    "    codebook = MiniBatchKMeans(n_clusters=k, verbose=False, batch_size=k * 20,compute_labels=False,reassignment_ratio=10**-4,random_state=42)\n",
    "    codebook.fit(D)\n",
    "\n",
    "    visual_words=np.zeros((len(Train_descriptors),k),dtype=np.float32)\n",
    "    for i in range(len(Train_descriptors)):\n",
    "        words=codebook.predict(Train_descriptors[i])\n",
    "        visual_words[i,:]=np.bincount(words,minlength=k)\n",
    "\n",
    "    knn = KNeighborsClassifier(n_neighbors=5,n_jobs=-1,metric='euclidean')\n",
    "    knn.fit(visual_words, train_labels)\n",
    "\n",
    "    visual_words_test=np.zeros((len(test_images_filenames),k),dtype=np.float32)\n",
    "    for i in range(len(test_images_filenames)):\n",
    "        filename=test_images_filenames[i]\n",
    "        ima=cv2.imread(filename)\n",
    "        gray=cv2.cvtColor(ima,cv2.COLOR_BGR2GRAY)\n",
    "        kpt,des=SIFTdetector.detectAndCompute(gray,None)\n",
    "        words=codebook.predict(des)\n",
    "        visual_words_test[i,:]=np.bincount(words,minlength=k)\n",
    "\n",
    "    accuracy = 100*knn.score(visual_words_test, test_labels)\n",
    "    knn_accuracy.append(accuracy)\n",
    "\n",
    "\n",
    "    pca = PCA(n_components=64)\n",
    "    VWpca = pca.fit_transform(visual_words)\n",
    "    knnpca = KNeighborsClassifier(n_neighbors=5,n_jobs=-1,metric='euclidean')\n",
    "    knnpca.fit(VWpca, train_labels)\n",
    "    vwtestpca = pca.transform(visual_words_test)\n",
    "    accuracy = 100*knnpca.score(vwtestpca, test_labels)\n",
    "    pca_accuracy.append(accuracy)\n",
    "\n",
    "    lda = LinearDiscriminantAnalysis()\n",
    "    VWlda = lda.fit_transform(visual_words,train_labels)\n",
    "    knnlda = KNeighborsClassifier(n_neighbors=5,n_jobs=-1,metric='euclidean')\n",
    "    knnlda.fit(VWlda, train_labels)\n",
    "    vwtestlda = lda.transform(visual_words_test)\n",
    "    accuracy = 100*knnlda.score(vwtestlda, test_labels)\n",
    "    lda_accuracy.append(accuracy)"
   ]
  },
  {
   "cell_type": "markdown",
   "metadata": {
    "pycharm": {
     "name": "#%% md\n"
    }
   },
   "source": [
    "At this moment we can compare the results between the normalized feature vectors and non-normalized features vectors."
   ]
  },
  {
   "cell_type": "code",
   "execution_count": 22,
   "metadata": {
    "pycharm": {
     "name": "#%%\n"
    }
   },
   "outputs": [],
   "source": [
    "knn = np.array(knn_accuracy)\n",
    "lda = np.array(lda_accuracy)\n",
    "pca = np.array(pca_accuracy)\n",
    "\n",
    "knn = knn.mean()\n",
    "lda = lda.mean()\n",
    "pca = pca.mean()\n",
    "\n",
    "knn_norm = np.array(knn_accuracy_norm)\n",
    "lda_norm = np.array(lda_accuracy_norm)\n",
    "pca_norm = np.array(lda_accuracy_norm)\n",
    "\n",
    "knn_norm = knn_norm.mean()\n",
    "lda_norm = lda_norm.mean()\n",
    "pca_norm = pca_norm.mean()"
   ]
  },
  {
   "cell_type": "markdown",
   "metadata": {
    "pycharm": {
     "name": "#%% md\n"
    }
   },
   "source": [
    "Now, we print the results with feature extraction without normalization:"
   ]
  },
  {
   "cell_type": "code",
   "execution_count": 24,
   "metadata": {
    "pycharm": {
     "name": "#%%\n"
    }
   },
   "outputs": [
    {
     "name": "stdout",
     "output_type": "stream",
     "text": [
      "KNN Accuracy:53.407682775712516\n",
      "PCA Accuracy:54.399008674101616\n",
      "LDA Accuracy:59.727385377943\n"
     ]
    }
   ],
   "source": [
    "print(\"KNN Accuracy:\" +str(knn))\n",
    "print(\"PCA Accuracy:\" +str(pca))\n",
    "print(\"LDA Accuracy:\" +str(lda))"
   ]
  },
  {
   "cell_type": "markdown",
   "metadata": {
    "pycharm": {
     "name": "#%% md\n"
    }
   },
   "source": [
    "Now, we print the results with feature extraction normalized:"
   ]
  },
  {
   "cell_type": "code",
   "execution_count": 25,
   "metadata": {
    "pycharm": {
     "name": "#%%\n"
    }
   },
   "outputs": [
    {
     "name": "stdout",
     "output_type": "stream",
     "text": [
      "KNN Accuracy:54.646840148698885\n",
      "PCA Accuracy:58.48822800495663\n",
      "LDA Accuracy:58.48822800495663\n"
     ]
    }
   ],
   "source": [
    "print(\"KNN Accuracy:\" +str(knn_norm))\n",
    "print(\"PCA Accuracy:\" +str(pca_norm))\n",
    "print(\"LDA Accuracy:\" +str(lda_norm))"
   ]
  },
  {
   "cell_type": "markdown",
   "metadata": {
    "pycharm": {
     "name": "#%% md\n"
    }
   },
   "source": [
    "We can appreciate that the difference between normalized and non-normalized features its minimal"
   ]
  },
  {
   "cell_type": "code",
   "execution_count": 2,
   "metadata": {},
   "outputs": [],
   "source": [
    "%reset -f\n",
    "import cv2\n",
    "import numpy as np\n",
    "import time\n",
    "import _pickle as cPickle\n",
    "import random\n",
    "from sklearn.svm import SVC\n",
    "from sklearn.cluster import MiniBatchKMeans\n",
    "from sklearn.neighbors import KNeighborsClassifier\n",
    "from sklearn.decomposition import PCA\n",
    "from sklearn.discriminant_analysis import LinearDiscriminantAnalysis\n",
    "from pykernels.basic import RBF, Linear\n",
    "from pykernels.regular import Min # Histogram Intersection Kernel\n",
    "\n",
    "train_images_filenames = cPickle.load(open('../Data/train_images_filenames.dat','rb'))\n",
    "test_images_filenames = cPickle.load(open('../Data/test_images_filenames.dat','rb'))\n",
    "train_labels = cPickle.load(open('../Data/train_labels.dat','rb'))\n",
    "test_labels = cPickle.load(open('../Data/test_labels.dat','rb'))\n",
    "\n",
    "all_images_filenames = train_images_filenames + test_images_filenames\n",
    "all_images_labels = train_labels+test_labels\n",
    "categories = ['coast','forest','highway','inside_city','mountain','Opencountry','street','tallbuilding']\n",
    "\n",
    "set1_filenames = []\n",
    "set2_filenames = []\n",
    "set3_filenames = []\n",
    "\n",
    "set1_labels = []\n",
    "set2_labels = []\n",
    "set3_labels = []\n",
    "c = list(zip(all_images_filenames, all_images_labels))\n",
    "random.shuffle(c)\n",
    "a,b = zip(*c)\n",
    "for cat in categories:\n",
    "    filename_matches = [s for s in all_images_filenames if cat in s]\n",
    "    label_matches = [s for s in all_images_labels if cat in s]\n",
    "    c = list(zip(filename_matches,label_matches))\n",
    "    random.shuffle(c)\n",
    "    filename_matches,label_matches = zip(*c)\n",
    "    n_features = int(len(filename_matches)/3)\n",
    "\n",
    "    set1_filenames.extend(filename_matches[0:n_features-1])\n",
    "    set1_labels.extend(label_matches[0:n_features-1])\n",
    "\n",
    "    set2_filenames.extend(filename_matches[n_features:(n_features * 2) - 1])\n",
    "    set2_labels.extend(label_matches[n_features:(n_features * 2) - 1])\n",
    "\n",
    "    set3_filenames.extend(filename_matches[n_features * 2:])\n",
    "    set3_labels.extend(label_matches[n_features * 2:])\n",
    "\n",
    "SIFTdetector = cv2.xfeatures2d.SIFT_create(nfeatures=300)"
   ]
  },
  {
   "cell_type": "code",
   "execution_count": 3,
   "metadata": {},
   "outputs": [],
   "source": [
    "Train_descriptors = []\n",
    "Train_label_per_descriptor = []\n",
    "\n",
    "for filename,labels in zip(train_images_filenames,train_labels):\n",
    "    ima=cv2.imread(filename)\n",
    "    gray=cv2.cvtColor(ima,cv2.COLOR_BGR2GRAY)\n",
    "    kpt,des=SIFTdetector.detectAndCompute(gray,None)\n",
    "    Train_descriptors.append(des)\n",
    "    Train_label_per_descriptor.append(labels)\n",
    "\n",
    "D=np.vstack(Train_descriptors)\n",
    "\n",
    "k = 128\n",
    "codebook = MiniBatchKMeans(n_clusters=k, verbose=False, batch_size=k * 20,compute_labels=False,reassignment_ratio=10**-4,random_state=42)\n",
    "codebook.fit(D)\n",
    "\n",
    "visual_words=np.zeros((len(Train_descriptors),k),dtype=np.float32)\n",
    "for i in range(len(Train_descriptors)):\n",
    "    words=codebook.predict(Train_descriptors[i])\n",
    "    visual_words[i,:]=np.bincount(words,minlength=k)\n",
    "\n",
    "visual_words_test=np.zeros((len(test_images_filenames),k),dtype=np.float32)\n",
    "for i in range(len(test_images_filenames)):\n",
    "    filename=test_images_filenames[i]\n",
    "    ima=cv2.imread(filename)\n",
    "    gray=cv2.cvtColor(ima,cv2.COLOR_BGR2GRAY)\n",
    "    kpt,des=SIFTdetector.detectAndCompute(gray,None)\n",
    "    words=codebook.predict(des)\n",
    "    visual_words_test[i,:]=np.bincount(words,minlength=k)"
   ]
  },
  {
   "cell_type": "code",
   "execution_count": 4,
   "metadata": {},
   "outputs": [
    {
     "name": "stdout",
     "output_type": "stream",
     "text": [
      "Default: 67.53407682775713\n"
     ]
    }
   ],
   "source": [
    "svm_classifier=SVC()\n",
    "svm_classifier.fit(visual_words, train_labels)\n",
    "svm_classifier.predict(visual_words_test)\n",
    "\n",
    "print(\"Default: %s\" % (100*svm_classifier.score(visual_words_test, test_labels)))"
   ]
  },
  {
   "cell_type": "code",
   "execution_count": 5,
   "metadata": {},
   "outputs": [
    {
     "name": "stdout",
     "output_type": "stream",
     "text": [
      "RBF Kernel: 42.00743494423792\n"
     ]
    }
   ],
   "source": [
    "rbf_svm_classifier=SVC(kernel=RBF(), C=1000)\n",
    "rbf_svm_classifier.fit(visual_words, train_labels)\n",
    "rbf_svm_classifier.predict(visual_words_test)\n",
    "print(\"RBF Kernel: %s\" % (100*rbf_svm_classifier.score(visual_words_test, test_labels)))"
   ]
  },
  {
   "cell_type": "code",
   "execution_count": 6,
   "metadata": {},
   "outputs": [
    {
     "name": "stdout",
     "output_type": "stream",
     "text": [
      "Histogram Kernel: 60.966542750929364\n"
     ]
    }
   ],
   "source": [
    "histogram_svm_classifier=SVC(kernel=Min(), C=1000)\n",
    "histogram_svm_classifier.fit(visual_words, train_labels)\n",
    "histogram_svm_classifier.predict(visual_words_test)\n",
    "print(\"Histogram Kernel: %s\" % (100*histogram_svm_classifier.score(visual_words_test, test_labels)))"
   ]
  },
  {
   "cell_type": "code",
   "execution_count": null,
   "metadata": {},
   "outputs": [],
   "source": [
    "linear_svm_classifier=SVC(kernel=Linear(), C=1000)\n",
    "linear_svm_classifier.fit(visual_words, train_labels)\n",
    "linear_svm_classifier.predict(visual_words_test)\n",
    "print(\"Linear Kernel: %s\" % (100*linear_svm_classifier.score(visual_words_test, test_labels)))"
   ]
  },
  {
   "cell_type": "markdown",
   "metadata": {},
   "source": [
    "We can see in the current dataset the default kernel works better than the tested different kernels. Histogram Kernel is works better than RBF which is better than Linear"
   ]
  }
 ],
 "metadata": {
  "kernelspec": {
   "display_name": "p3",
   "language": "python",
   "name": "p3"
  },
  "language_info": {
   "codemirror_mode": {
    "name": "ipython",
    "version": 3
   },
   "file_extension": ".py",
   "mimetype": "text/x-python",
   "name": "python",
   "nbconvert_exporter": "python",
   "pygments_lexer": "ipython3",
   "version": "3.7.4"
  }
 },
 "nbformat": 4,
 "nbformat_minor": 4
}
